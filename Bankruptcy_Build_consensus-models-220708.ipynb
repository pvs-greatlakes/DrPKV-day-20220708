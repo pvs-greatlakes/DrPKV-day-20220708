{
 "cells": [
  {
   "cell_type": "markdown",
   "id": "edd1b439",
   "metadata": {},
   "source": [
    "### 1) Importing required modules"
   ]
  },
  {
   "cell_type": "code",
   "execution_count": 1,
   "id": "95c65dee",
   "metadata": {},
   "outputs": [],
   "source": [
    "import  pandas                   as      pd\n",
    "import  numpy                    as      np\n",
    "from    sklearn.model_selection  import  train_test_split\n",
    "from    sklearn.linear_model     import  LogisticRegression\n",
    "from    sklearn.model_selection  import  StratifiedKFold\n",
    "from    sklearn.metrics          import  accuracy_score, roc_auc_score\n",
    "from    scipy.stats              import  mode\n",
    "from    matplotlib               import  pyplot   as  plt"
   ]
  },
  {
   "cell_type": "code",
   "execution_count": 2,
   "id": "dc798299",
   "metadata": {},
   "outputs": [],
   "source": [
    "import warnings\n",
    "warnings.filterwarnings('ignore')"
   ]
  },
  {
   "cell_type": "code",
   "execution_count": 3,
   "id": "90cc6e63",
   "metadata": {},
   "outputs": [],
   "source": [
    "import time\n",
    "from    datetime   import datetime\n",
    "from    datetime   import timedelta"
   ]
  },
  {
   "cell_type": "markdown",
   "id": "ce9492b6",
   "metadata": {},
   "source": [
    "### 2) Read data"
   ]
  },
  {
   "cell_type": "code",
   "execution_count": 4,
   "id": "5455f3c0",
   "metadata": {},
   "outputs": [
    {
     "name": "stdout",
     "output_type": "stream",
     "text": [
      "\n",
      "Dataset dimension (9000, 11)\n",
      "Index(['Target', 'Cash_ratio', 'Changeinsales_Industry', 'debt_equity',\n",
      "       'debt_income', 'Interest_coverage', 'Quick_ratio', 'ROE(new)',\n",
      "       'ROS(new)', 'Sales_CE', 'Total shareholders' funds'],\n",
      "      dtype='object')\n"
     ]
    }
   ],
   "source": [
    "file_name     =   r'D:\\DrPKV\\20220708\\Data\\imputed_compact_dataset_ten_20220707110612AM.csv'\n",
    "df1           =   pd.read_csv(file_name)\n",
    "print('\\nDataset dimension {}'.format(df1.shape))\n",
    "print(df1.columns)"
   ]
  },
  {
   "cell_type": "code",
   "execution_count": 5,
   "id": "620962eb",
   "metadata": {},
   "outputs": [],
   "source": [
    "y             =    df1['Target']\n",
    "X             =    df1.drop(['Target'], axis = 1)     "
   ]
  },
  {
   "cell_type": "markdown",
   "id": "3065d10e",
   "metadata": {},
   "source": [
    "### 3) Implementing cross validation"
   ]
  },
  {
   "cell_type": "code",
   "execution_count": 6,
   "id": "dade08c1",
   "metadata": {},
   "outputs": [],
   "source": [
    "\"\"\"\n",
    "Function Name: compare_models\n",
    "\n",
    "   Description: This **function** compares various algorithms on \n",
    "                 1) AUROC 2) Precision, 3) Recall\n",
    "   \n",
    "   Input: 1) splits for k fold \n",
    "          2) random seed number\n",
    "          3) Training data for predictor variables\n",
    "          4) Training data for target variable\n",
    "\n",
    "\n",
    "\n",
    "   Output: Model comparison on these metrics 1) AUROC 2) Metrics - Precision, Recall\n",
    "   \n",
    "\"\"\"\n",
    "def compare_models(random_state, X, y):  \n",
    "\n",
    "    ### To compare algorithms\n",
    "    \n",
    "    from    matplotlib                    import   pyplot                 as       plt\n",
    "    from    sklearn.model_selection       import   StratifiedKFold\n",
    "    from    sklearn.metrics               import   roc_auc_score\n",
    "    from    sklearn.linear_model          import   LogisticRegression\n",
    "    from    sklearn.tree                  import   DecisionTreeClassifier\n",
    "    from    sklearn.svm                   import   SVC\n",
    "    from    sklearn.discriminant_analysis import   LinearDiscriminantAnalysis\n",
    "    from    sklearn.neighbors             import   KNeighborsClassifier\n",
    "    from    sklearn.ensemble              import   RandomForestClassifier\n",
    "    from    sklearn.model_selection       import   StratifiedKFold\n",
    "    from    xgboost                       import   XGBClassifier\n",
    "    ### ----------------------------------------------------------------------------------------------    \n",
    "    ### Prepare models\n",
    "    ### ----------------------------------------------------------------------------------------------\n",
    "    \n",
    "#    X_train, X_test, y_train, y_test =  train_test_split(X, y, test_size = 0.30, stratify = y,  random_state = random_state)  \n",
    "        \n",
    "\n",
    "    \n",
    "    result   =  pd.DataFrame()   \n",
    "    \n",
    "#   results_df   =   pd.DataFrame()  \n",
    "    models       =   []\n",
    "    models.append(('CART', DecisionTreeClassifier()))\n",
    "    models.append(('RF', RandomForestClassifier()))\n",
    "    models.append(('XGBoost', XGBClassifier()))\n",
    "    ### ----------------------------------------------------------------------------------------------   \n",
    "    ### Evaluate model in turn\n",
    "      \n",
    "    scores_req      =  ['roc_auc', 'precision', 'recall']\n",
    "\n",
    "    res_df_tr       =  pd.DataFrame() \n",
    "    res_df_test     =  pd.DataFrame() \n",
    "    \n",
    "    # Create StratifiedKFold object.\n",
    "    skf             =  StratifiedKFold(n_splits = 10, shuffle = True, random_state = 12345)   \n",
    "    fold_no         =  0\n",
    "    print(type(X))\n",
    "    print(type(y))\n",
    "\n",
    "    for train_index, test_index in skf.split(X, y):\n",
    "            fold_no    +=  1\n",
    "            \n",
    "            for name, clf in models:\n",
    "                \n",
    "                X_train_fold                     = X.iloc[X.index.isin(train_index)]\n",
    "                X_test_fold                      = X.iloc[X.index.isin(test_index)]\n",
    "\n",
    "                y_train_fold                     = y.iloc[y.index.isin(train_index)]\n",
    "                y_test_fold                      = y.iloc[y.index.isin(test_index)]\n",
    "\n",
    "                \"\"\"\n",
    "                X_train_fold                     =  X.set_index(train_index)      \n",
    "                X_test_fold                      =  X.set_index(test_index)      \n",
    "\n",
    "                y_train_fold                     =  y.set_index(train_index)      \n",
    "                y_test_fold                      =  y.set_index(test_index)      \n",
    "                \n",
    "                \"\"\"\n",
    "                ### X_train_fold, X_test_fold        =  X[train_index], X[test_index]\n",
    "                ### y_train_fold, y_test_fold        =  y[train_index], y[test_index]\n",
    "                \n",
    "                y_train_pred_fold                =  clf.fit(X_train_fold, y_train_fold).predict(X_train_fold); print(y_train_pred_fold.shape)\n",
    "                y_test_pred_fold                 =  clf.fit(X_train_fold, y_train_fold).predict(X_test_fold); print(y_test_pred_fold.shape)\n",
    "                \n",
    "                res_train_df                     =  pd.DataFrame({'Fold No': fold_no, \\\n",
    "                                                                  'Train_y_true' :  y_train_fold,\\\n",
    "                                                                  'Train_y_pred' :  y_train_pred_fold})\n",
    "                 \n",
    "                res_test_df                      =  pd.DataFrame({'Fold No' : fold_no,\\\n",
    "                                                                  'Test_y_true' :  y_test_fold,\\\n",
    "                                                                  'Test_y_pred' :  y_test_pred_fold})\n",
    "                res_train_df['Model']            =  name\n",
    "                res_test_df['Model']             =  name\n",
    "                res_df_tr                        =  pd.concat([res_df_tr, res_train_df], axis = 0)\n",
    "                res_df_test                      =  pd.concat([res_df_test, res_test_df], axis = 0)\n",
    "           \n",
    "    result                                       =  [res_df_tr, res_df_test]\n",
    "    \n",
    "    \n",
    "    return result\n",
    "### ------------------------------------------------------------------------------------------"
   ]
  },
  {
   "cell_type": "code",
   "execution_count": 7,
   "id": "67b82833",
   "metadata": {},
   "outputs": [
    {
     "name": "stdout",
     "output_type": "stream",
     "text": [
      "<class 'pandas.core.frame.DataFrame'>\n",
      "<class 'pandas.core.series.Series'>\n",
      "(8100,)\n",
      "(900,)\n",
      "(8100,)\n",
      "(900,)\n",
      "(8100,)\n",
      "(900,)\n",
      "(8100,)\n",
      "(900,)\n",
      "(8100,)\n",
      "(900,)\n",
      "(8100,)\n",
      "(900,)\n",
      "(8100,)\n",
      "(900,)\n",
      "(8100,)\n",
      "(900,)\n",
      "(8100,)\n",
      "(900,)\n",
      "(8100,)\n",
      "(900,)\n",
      "(8100,)\n",
      "(900,)\n",
      "(8100,)\n",
      "(900,)\n",
      "(8100,)\n",
      "(900,)\n",
      "(8100,)\n",
      "(900,)\n",
      "(8100,)\n",
      "(900,)\n",
      "(8100,)\n",
      "(900,)\n",
      "(8100,)\n",
      "(900,)\n",
      "(8100,)\n",
      "(900,)\n",
      "(8100,)\n",
      "(900,)\n",
      "(8100,)\n",
      "(900,)\n",
      "(8100,)\n",
      "(900,)\n",
      "(8100,)\n",
      "(900,)\n",
      "(8100,)\n",
      "(900,)\n",
      "(8100,)\n",
      "(900,)\n",
      "(8100,)\n",
      "(900,)\n",
      "(8100,)\n",
      "(900,)\n",
      "(8100,)\n",
      "(900,)\n",
      "(8100,)\n",
      "(900,)\n",
      "(8100,)\n",
      "(900,)\n",
      "(8100,)\n",
      "(900,)\n"
     ]
    }
   ],
   "source": [
    "random_state         =   12345\n",
    "tr, te               =  compare_models(random_state, X, y)\n",
    "# compare_models(random_state, X, y)"
   ]
  },
  {
   "cell_type": "code",
   "execution_count": 8,
   "id": "00da0c1d",
   "metadata": {},
   "outputs": [
    {
     "data": {
      "text/plain": [
       "Index(['Fold No', 'Train_y_true', 'Train_y_pred', 'Model'], dtype='object')"
      ]
     },
     "execution_count": 8,
     "metadata": {},
     "output_type": "execute_result"
    }
   ],
   "source": [
    "tr.columns"
   ]
  },
  {
   "cell_type": "code",
   "execution_count": 9,
   "id": "cb121cc0",
   "metadata": {},
   "outputs": [],
   "source": [
    "reqd_cols                  =    ['Train_y_true', 'Train_y_pred']\n",
    "new_training_df            =    tr.copy()"
   ]
  },
  {
   "cell_type": "code",
   "execution_count": 14,
   "id": "27698dba",
   "metadata": {},
   "outputs": [
    {
     "data": {
      "text/plain": [
       "(243000, 4)"
      ]
     },
     "execution_count": 14,
     "metadata": {},
     "output_type": "execute_result"
    }
   ],
   "source": [
    "tr.shape"
   ]
  },
  {
   "cell_type": "code",
   "execution_count": 15,
   "id": "d567c95c",
   "metadata": {},
   "outputs": [
    {
     "data": {
      "text/plain": [
       "3.0"
      ]
     },
     "execution_count": 15,
     "metadata": {},
     "output_type": "execute_result"
    }
   ],
   "source": [
    "243000 / 81000"
   ]
  },
  {
   "cell_type": "code",
   "execution_count": 13,
   "id": "b1b6f741",
   "metadata": {},
   "outputs": [
    {
     "data": {
      "text/html": [
       "<div>\n",
       "<style scoped>\n",
       "    .dataframe tbody tr th:only-of-type {\n",
       "        vertical-align: middle;\n",
       "    }\n",
       "\n",
       "    .dataframe tbody tr th {\n",
       "        vertical-align: top;\n",
       "    }\n",
       "\n",
       "    .dataframe thead th {\n",
       "        text-align: right;\n",
       "    }\n",
       "</style>\n",
       "<table border=\"1\" class=\"dataframe\">\n",
       "  <thead>\n",
       "    <tr style=\"text-align: right;\">\n",
       "      <th></th>\n",
       "      <th>0</th>\n",
       "      <th>1</th>\n",
       "      <th>2</th>\n",
       "      <th>3</th>\n",
       "      <th>4</th>\n",
       "    </tr>\n",
       "  </thead>\n",
       "  <tbody>\n",
       "    <tr>\n",
       "      <th>Fold No</th>\n",
       "      <td>1</td>\n",
       "      <td>1</td>\n",
       "      <td>1</td>\n",
       "      <td>1</td>\n",
       "      <td>1</td>\n",
       "    </tr>\n",
       "    <tr>\n",
       "      <th>Train_y_true</th>\n",
       "      <td>0</td>\n",
       "      <td>0</td>\n",
       "      <td>0</td>\n",
       "      <td>0</td>\n",
       "      <td>0</td>\n",
       "    </tr>\n",
       "    <tr>\n",
       "      <th>Train_y_pred</th>\n",
       "      <td>0</td>\n",
       "      <td>0</td>\n",
       "      <td>0</td>\n",
       "      <td>0</td>\n",
       "      <td>0</td>\n",
       "    </tr>\n",
       "    <tr>\n",
       "      <th>Model</th>\n",
       "      <td>CART</td>\n",
       "      <td>CART</td>\n",
       "      <td>CART</td>\n",
       "      <td>CART</td>\n",
       "      <td>CART</td>\n",
       "    </tr>\n",
       "  </tbody>\n",
       "</table>\n",
       "</div>"
      ],
      "text/plain": [
       "                 0     1     2     3     4\n",
       "Fold No          1     1     1     1     1\n",
       "Train_y_true     0     0     0     0     0\n",
       "Train_y_pred     0     0     0     0     0\n",
       "Model         CART  CART  CART  CART  CART"
      ]
     },
     "execution_count": 13,
     "metadata": {},
     "output_type": "execute_result"
    }
   ],
   "source": [
    "tr.head().T"
   ]
  },
  {
   "cell_type": "code",
   "execution_count": 21,
   "id": "0b6e5dce",
   "metadata": {},
   "outputs": [
    {
     "name": "stdout",
     "output_type": "stream",
     "text": [
      "Index(['Fold No', 'Train_y_true', 'CART_Train_y_pred', 'Model'], dtype='object')\n",
      "(81000, 4)\n",
      "                      0     1     2     3     4\n",
      "Fold No               1     1     1     1     1\n",
      "Train_y_true          0     0     0     0     0\n",
      "CART_Train_y_pred     0     0     0     0     0\n",
      "Model              CART  CART  CART  CART  CART\n"
     ]
    }
   ],
   "source": [
    "### 1) mODEL CART\n",
    "CART_new_training_df                    =    tr.loc[tr.Model == 'CART', : ]\n",
    "CART_new_training_df.columns            =    ['Fold No', 'Train_y_true', 'CART_Train_y_pred', 'Model']\n",
    "print(CART_new_training_df.columns)\n",
    "print(CART_new_training_df.shape)\n",
    "print(CART_new_training_df.head().T)\n",
    "#new_training_df['CART_Train_y_pred']    =    CART_new_training_df['Train_y_pred'] "
   ]
  },
  {
   "cell_type": "code",
   "execution_count": 24,
   "id": "1ae1e950",
   "metadata": {},
   "outputs": [],
   "source": [
    "CART_Train_y_pred_L       =    CART_new_training_df.loc[:, 'CART_Train_y_pred' ].tolist()"
   ]
  },
  {
   "cell_type": "code",
   "execution_count": 22,
   "id": "a58182c8",
   "metadata": {},
   "outputs": [
    {
     "name": "stdout",
     "output_type": "stream",
     "text": [
      "(81000, 4)\n",
      "                  0   1   2   3   4\n",
      "Fold No           1   1   1   1   1\n",
      "Train_y_true      0   0   0   0   0\n",
      "RF_Train_y_pred   0   0   0   0   0\n",
      "Model            RF  RF  RF  RF  RF\n"
     ]
    }
   ],
   "source": [
    "### 2) MODEL RF\n",
    "RF_new_training_df                      =    tr.loc[tr.Model == 'RF', : ]\n",
    "RF_new_training_df.columns              =    ['Fold No', 'Train_y_true', 'RF_Train_y_pred', 'Model']\n",
    "print(RF_new_training_df.shape)\n",
    "print(RF_new_training_df.head().T)"
   ]
  },
  {
   "cell_type": "code",
   "execution_count": 25,
   "id": "b556c193",
   "metadata": {},
   "outputs": [],
   "source": [
    "RF_Train_y_pred_L       =    RF_new_training_df.loc[:, 'RF_Train_y_pred' ].tolist()"
   ]
  },
  {
   "cell_type": "code",
   "execution_count": 23,
   "id": "d3e26719",
   "metadata": {},
   "outputs": [
    {
     "name": "stdout",
     "output_type": "stream",
     "text": [
      "(81000, 4)\n",
      "                        0        1        2        3        4\n",
      "Fold No                 1        1        1        1        1\n",
      "Train_y_true            0        0        0        0        0\n",
      "XGB_Train_y_pred        0        0        0        0        0\n",
      "Model             XGBoost  XGBoost  XGBoost  XGBoost  XGBoost\n"
     ]
    }
   ],
   "source": [
    "### 3) MODEL XGBoost\n",
    "XGB_new_training_df                     =    tr.loc[tr.Model == 'XGBoost', : ]\n",
    "XGB_new_training_df.columns             =    ['Fold No', 'Train_y_true', 'XGB_Train_y_pred', 'Model']\n",
    "print(XGB_new_training_df.shape)\n",
    "print(XGB_new_training_df.head().T)\n"
   ]
  },
  {
   "cell_type": "code",
   "execution_count": 26,
   "id": "da718c3b",
   "metadata": {},
   "outputs": [],
   "source": [
    "XGB_Train_y_pred_L       =    XGB_new_training_df.loc[:, 'XGB_Train_y_pred' ].tolist()"
   ]
  },
  {
   "cell_type": "code",
   "execution_count": 27,
   "id": "c9077c6f",
   "metadata": {},
   "outputs": [],
   "source": [
    "Fold_L                   =    XGB_new_training_df.loc[:, 'Fold No' ].tolist()\n",
    "True_L                   =    XGB_new_training_df.loc[:, 'Train_y_true' ].tolist()"
   ]
  },
  {
   "cell_type": "code",
   "execution_count": 30,
   "id": "39ab2bcf",
   "metadata": {},
   "outputs": [],
   "source": [
    "new_Data                 =    pd.DataFrame({'Fole No' : Fold_L, 'Train_y_true' : True_L,\\\n",
    "                                           'CART Prediction' :  CART_Train_y_pred_L,\\\n",
    "                                           'RF Prediction' :  RF_Train_y_pred_L,\\\n",
    "                                           'XGB Prediction' :  XGB_Train_y_pred_L})"
   ]
  },
  {
   "cell_type": "code",
   "execution_count": 31,
   "id": "ed0c476e",
   "metadata": {},
   "outputs": [],
   "source": [
    "list_tr     =  ['CART Prediction', 'RF Prediction', 'XGB Prediction']\n",
    "new_Data['Consensus'] = new_Data[list_tr].mode(axis = 1)"
   ]
  },
  {
   "cell_type": "code",
   "execution_count": 35,
   "id": "7ad25045",
   "metadata": {},
   "outputs": [
    {
     "data": {
      "text/html": [
       "<div>\n",
       "<style scoped>\n",
       "    .dataframe tbody tr th:only-of-type {\n",
       "        vertical-align: middle;\n",
       "    }\n",
       "\n",
       "    .dataframe tbody tr th {\n",
       "        vertical-align: top;\n",
       "    }\n",
       "\n",
       "    .dataframe thead th {\n",
       "        text-align: right;\n",
       "    }\n",
       "</style>\n",
       "<table border=\"1\" class=\"dataframe\">\n",
       "  <thead>\n",
       "    <tr style=\"text-align: right;\">\n",
       "      <th></th>\n",
       "      <th>0</th>\n",
       "      <th>1</th>\n",
       "      <th>2</th>\n",
       "      <th>3</th>\n",
       "      <th>4</th>\n",
       "      <th>5</th>\n",
       "      <th>6</th>\n",
       "      <th>7</th>\n",
       "      <th>8</th>\n",
       "      <th>9</th>\n",
       "      <th>...</th>\n",
       "      <th>990</th>\n",
       "      <th>991</th>\n",
       "      <th>992</th>\n",
       "      <th>993</th>\n",
       "      <th>994</th>\n",
       "      <th>995</th>\n",
       "      <th>996</th>\n",
       "      <th>997</th>\n",
       "      <th>998</th>\n",
       "      <th>999</th>\n",
       "    </tr>\n",
       "  </thead>\n",
       "  <tbody>\n",
       "    <tr>\n",
       "      <th>Fole No</th>\n",
       "      <td>1</td>\n",
       "      <td>1</td>\n",
       "      <td>1</td>\n",
       "      <td>1</td>\n",
       "      <td>1</td>\n",
       "      <td>1</td>\n",
       "      <td>1</td>\n",
       "      <td>1</td>\n",
       "      <td>1</td>\n",
       "      <td>1</td>\n",
       "      <td>...</td>\n",
       "      <td>1</td>\n",
       "      <td>1</td>\n",
       "      <td>1</td>\n",
       "      <td>1</td>\n",
       "      <td>1</td>\n",
       "      <td>1</td>\n",
       "      <td>1</td>\n",
       "      <td>1</td>\n",
       "      <td>1</td>\n",
       "      <td>1</td>\n",
       "    </tr>\n",
       "    <tr>\n",
       "      <th>Train_y_true</th>\n",
       "      <td>0</td>\n",
       "      <td>0</td>\n",
       "      <td>0</td>\n",
       "      <td>0</td>\n",
       "      <td>0</td>\n",
       "      <td>0</td>\n",
       "      <td>0</td>\n",
       "      <td>0</td>\n",
       "      <td>0</td>\n",
       "      <td>0</td>\n",
       "      <td>...</td>\n",
       "      <td>0</td>\n",
       "      <td>0</td>\n",
       "      <td>0</td>\n",
       "      <td>0</td>\n",
       "      <td>0</td>\n",
       "      <td>0</td>\n",
       "      <td>0</td>\n",
       "      <td>0</td>\n",
       "      <td>0</td>\n",
       "      <td>0</td>\n",
       "    </tr>\n",
       "    <tr>\n",
       "      <th>CART Prediction</th>\n",
       "      <td>0</td>\n",
       "      <td>0</td>\n",
       "      <td>0</td>\n",
       "      <td>0</td>\n",
       "      <td>0</td>\n",
       "      <td>0</td>\n",
       "      <td>0</td>\n",
       "      <td>0</td>\n",
       "      <td>0</td>\n",
       "      <td>0</td>\n",
       "      <td>...</td>\n",
       "      <td>0</td>\n",
       "      <td>0</td>\n",
       "      <td>0</td>\n",
       "      <td>0</td>\n",
       "      <td>0</td>\n",
       "      <td>0</td>\n",
       "      <td>0</td>\n",
       "      <td>0</td>\n",
       "      <td>0</td>\n",
       "      <td>0</td>\n",
       "    </tr>\n",
       "    <tr>\n",
       "      <th>RF Prediction</th>\n",
       "      <td>0</td>\n",
       "      <td>0</td>\n",
       "      <td>0</td>\n",
       "      <td>0</td>\n",
       "      <td>0</td>\n",
       "      <td>0</td>\n",
       "      <td>0</td>\n",
       "      <td>0</td>\n",
       "      <td>0</td>\n",
       "      <td>0</td>\n",
       "      <td>...</td>\n",
       "      <td>0</td>\n",
       "      <td>0</td>\n",
       "      <td>0</td>\n",
       "      <td>0</td>\n",
       "      <td>0</td>\n",
       "      <td>0</td>\n",
       "      <td>0</td>\n",
       "      <td>0</td>\n",
       "      <td>0</td>\n",
       "      <td>0</td>\n",
       "    </tr>\n",
       "    <tr>\n",
       "      <th>XGB Prediction</th>\n",
       "      <td>0</td>\n",
       "      <td>0</td>\n",
       "      <td>0</td>\n",
       "      <td>0</td>\n",
       "      <td>0</td>\n",
       "      <td>0</td>\n",
       "      <td>0</td>\n",
       "      <td>0</td>\n",
       "      <td>0</td>\n",
       "      <td>0</td>\n",
       "      <td>...</td>\n",
       "      <td>0</td>\n",
       "      <td>0</td>\n",
       "      <td>0</td>\n",
       "      <td>0</td>\n",
       "      <td>0</td>\n",
       "      <td>0</td>\n",
       "      <td>0</td>\n",
       "      <td>0</td>\n",
       "      <td>0</td>\n",
       "      <td>0</td>\n",
       "    </tr>\n",
       "    <tr>\n",
       "      <th>Consensus</th>\n",
       "      <td>0</td>\n",
       "      <td>0</td>\n",
       "      <td>0</td>\n",
       "      <td>0</td>\n",
       "      <td>0</td>\n",
       "      <td>0</td>\n",
       "      <td>0</td>\n",
       "      <td>0</td>\n",
       "      <td>0</td>\n",
       "      <td>0</td>\n",
       "      <td>...</td>\n",
       "      <td>0</td>\n",
       "      <td>0</td>\n",
       "      <td>0</td>\n",
       "      <td>0</td>\n",
       "      <td>0</td>\n",
       "      <td>0</td>\n",
       "      <td>0</td>\n",
       "      <td>0</td>\n",
       "      <td>0</td>\n",
       "      <td>0</td>\n",
       "    </tr>\n",
       "  </tbody>\n",
       "</table>\n",
       "<p>6 rows × 1000 columns</p>\n",
       "</div>"
      ],
      "text/plain": [
       "                 0    1    2    3    4    5    6    7    8    9    ...  990  \\\n",
       "Fole No            1    1    1    1    1    1    1    1    1    1  ...    1   \n",
       "Train_y_true       0    0    0    0    0    0    0    0    0    0  ...    0   \n",
       "CART Prediction    0    0    0    0    0    0    0    0    0    0  ...    0   \n",
       "RF Prediction      0    0    0    0    0    0    0    0    0    0  ...    0   \n",
       "XGB Prediction     0    0    0    0    0    0    0    0    0    0  ...    0   \n",
       "Consensus          0    0    0    0    0    0    0    0    0    0  ...    0   \n",
       "\n",
       "                 991  992  993  994  995  996  997  998  999  \n",
       "Fole No            1    1    1    1    1    1    1    1    1  \n",
       "Train_y_true       0    0    0    0    0    0    0    0    0  \n",
       "CART Prediction    0    0    0    0    0    0    0    0    0  \n",
       "RF Prediction      0    0    0    0    0    0    0    0    0  \n",
       "XGB Prediction     0    0    0    0    0    0    0    0    0  \n",
       "Consensus          0    0    0    0    0    0    0    0    0  \n",
       "\n",
       "[6 rows x 1000 columns]"
      ]
     },
     "execution_count": 35,
     "metadata": {},
     "output_type": "execute_result"
    }
   ],
   "source": [
    "new_Data.head(1000).T"
   ]
  },
  {
   "cell_type": "code",
   "execution_count": 40,
   "id": "dee2631a",
   "metadata": {},
   "outputs": [],
   "source": [
    "# Write the output of Predicted values and actual values for each observation in training set for each model\n",
    "\n",
    "out_tr_filename      =  r'D:\\DrPKV\\20220708\\Output\\Predicted_Values_train_data_' +  str(datetime.now().strftime('%Y_%m_%d_%H_%M_%S')) + '.csv'\n",
    "new_Data.to_csv(out_tr_filename, index = False)"
   ]
  },
  {
   "cell_type": "code",
   "execution_count": 41,
   "id": "a23b1e6a",
   "metadata": {},
   "outputs": [
    {
     "data": {
      "text/plain": [
       "Index(['Fold No', 'Test_y_true', 'Test_y_pred', 'Model'], dtype='object')"
      ]
     },
     "execution_count": 41,
     "metadata": {},
     "output_type": "execute_result"
    }
   ],
   "source": [
    "te.columns"
   ]
  },
  {
   "cell_type": "code",
   "execution_count": 42,
   "id": "5a3ec864",
   "metadata": {},
   "outputs": [],
   "source": [
    "new_test_df                =    te.copy()"
   ]
  },
  {
   "cell_type": "code",
   "execution_count": 44,
   "id": "c1e22f58",
   "metadata": {},
   "outputs": [],
   "source": [
    "### 1) MODEL CART\n",
    "CART_new_test_df                        =    te.loc[te.Model == 'CART', : ]\n",
    "CART_new_test_df.columns                =    ['Fold No', 'Test_y_true', 'CART_Test_y_pred', 'Model']\n",
    "\n",
    "CART_Test_y_pred_L                      =    CART_new_test_df.loc[:, 'CART_Test_y_pred' ].tolist()\n",
    "\n",
    "### 2) mODEL RF\n",
    "RF_new_test_df                          =    te.loc[te.Model == 'RF', : ]\n",
    "RF_new_test_df.columns                  =     ['Fold No', 'Test_y_true', 'RF_Test_y_pred', 'Model']\n",
    "\n",
    "RF_Test_y_pred_L                        =    RF_new_test_df.loc[:, 'RF_Test_y_pred' ].tolist()\n",
    "\n",
    "### 3) MODEL XGBoost\n",
    "XGB_new_test_df                         =    te.loc[te.Model == 'XGBoost', : ]\n",
    "XGB_new_test_df.columns                 =    ['Fold No', 'Test_y_true', 'XGB_Test_y_pred', 'Model']\n",
    "\n",
    "XGB_Test_y_pred_L                       =    XGB_new_test_df.loc[:, 'XGB_Test_y_pred' ].tolist()                                                    \n",
    "                                                    "
   ]
  },
  {
   "cell_type": "code",
   "execution_count": 45,
   "id": "1f23a56c",
   "metadata": {},
   "outputs": [],
   "source": [
    "Fold_L                   =    XGB_new_test_df.loc[:, 'Fold No' ].tolist()\n",
    "True_L                   =    XGB_new_test_df.loc[:, 'Test_y_true' ].tolist()"
   ]
  },
  {
   "cell_type": "code",
   "execution_count": 47,
   "id": "6f3f02d2",
   "metadata": {},
   "outputs": [],
   "source": [
    "new_test_Data                 =    pd.DataFrame({'Fole No' : Fold_L, 'Test_y_true' : True_L,\\\n",
    "                                           'CART Prediction' :  CART_Test_y_pred_L,\\\n",
    "                                           'RF Prediction' :  RF_Test_y_pred_L,\\\n",
    "                                           'XGB Prediction' :  XGB_Test_y_pred_L})"
   ]
  },
  {
   "cell_type": "code",
   "execution_count": 48,
   "id": "765c5265",
   "metadata": {},
   "outputs": [],
   "source": [
    "list_te                  =  ['CART Prediction', 'RF Prediction', 'XGB Prediction']\n",
    "new_test_Data['Consensus'] =  new_test_Data[list_te].mode(axis = 1)"
   ]
  },
  {
   "cell_type": "code",
   "execution_count": 49,
   "id": "b93584b5",
   "metadata": {},
   "outputs": [],
   "source": [
    "# Write the output of Predicted values and actual values for each observation in test set for each model\n",
    "\n",
    "out_test_filename      =  r'D:\\DrPKV\\20220708\\Output\\Predicted_Values_test_data_' + str(datetime.now().strftime('%Y_%m_%d_%H_%M_%S')) + '.csv'\n",
    "new_test_Data.to_csv(out_test_filename, index = False)"
   ]
  },
  {
   "cell_type": "markdown",
   "id": "cabd30af",
   "metadata": {},
   "source": [
    "### END"
   ]
  }
 ],
 "metadata": {
  "kernelspec": {
   "display_name": "Python 3 (ipykernel)",
   "language": "python",
   "name": "python3"
  },
  "language_info": {
   "codemirror_mode": {
    "name": "ipython",
    "version": 3
   },
   "file_extension": ".py",
   "mimetype": "text/x-python",
   "name": "python",
   "nbconvert_exporter": "python",
   "pygments_lexer": "ipython3",
   "version": "3.9.12"
  }
 },
 "nbformat": 4,
 "nbformat_minor": 5
}
